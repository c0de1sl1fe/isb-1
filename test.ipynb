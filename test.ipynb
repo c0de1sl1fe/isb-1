{
 "cells": [
  {
   "cell_type": "code",
   "execution_count": 2,
   "metadata": {},
   "outputs": [
    {
     "data": {
      "text/plain": [
       "0.75"
      ]
     },
     "execution_count": 2,
     "metadata": {},
     "output_type": "execute_result"
    }
   ],
   "source": [
    "tmp = \"тест\"\n",
    "test = set(list(tmp))\n",
    "a = 3/4\n",
    "test\n",
    "a"
   ]
  },
  {
   "cell_type": "code",
   "execution_count": 142,
   "metadata": {},
   "outputs": [
    {
     "name": "stdout",
     "output_type": "stream",
     "text": [
      "{'t': 0.5, 'e': 0.25, 's': 0.25}\n"
     ]
    }
   ],
   "source": [
    "def createDic(str: str):\n",
    "    tmp = set(str)\n",
    "    # tmp = set(list(str))\n",
    "    length = len(str)\n",
    "    # length = len(tmp)\n",
    "    res = {}\n",
    "    for i in tmp:\n",
    "        count = 0\n",
    "        for j in str:\n",
    "            if (i == j):\n",
    "                count += 1\n",
    "        res[i] = count/length\n",
    "    res = dict(sorted(res.items(), key=lambda item: item[1]))\n",
    "    res = dict(reversed(list(res.items())))\n",
    "    return res\n",
    "\n",
    "\n",
    "def makeDic():\n",
    "    tmpLetter = '0'\n",
    "    tmpValue = 0\n",
    "    res = {}\n",
    "    while (True):\n",
    "        tmpLetter = (input('Char: '))\n",
    "        tmpLetter = tmpLetter.upper()\n",
    "        tmpValue = float(input('Value: '))\n",
    "        if (tmpValue == -1):\n",
    "            break\n",
    "        res[tmpLetter] = tmpValue\n",
    "    # res = dict(sorted(res.items(), key=lambda item: item[1]))\n",
    "    return res\n",
    "\n",
    "\n",
    "str = 'test'\n",
    "tmp = createDic(str)\n",
    "print(tmp)\n"
   ]
  },
  {
   "cell_type": "code",
   "execution_count": null,
   "metadata": {},
   "outputs": [],
   "source": []
  },
  {
   "cell_type": "code",
   "execution_count": 6,
   "metadata": {},
   "outputs": [
    {
     "data": {
      "text/plain": [
       "'yesy'"
      ]
     },
     "execution_count": 6,
     "metadata": {},
     "output_type": "execute_result"
    }
   ],
   "source": [
    "str = str.replace('t', 'y')\n",
    "str"
   ]
  },
  {
   "cell_type": "code",
   "execution_count": 143,
   "metadata": {},
   "outputs": [
    {
     "data": {
      "text/plain": [
       "{'Х': 0.13627992633517497,\n",
       " ' ': 0.08839779005524862,\n",
       " 'Е': 0.08103130755064457,\n",
       " 'Д': 0.07550644567219153,\n",
       " 'Ч': 0.06629834254143646,\n",
       " 'Ы': 0.0570902394106814,\n",
       " 'Й': 0.04788213627992634,\n",
       " 't': 0.04788213627992634,\n",
       " '1': 0.040515653775322284,\n",
       " '2': 0.034990791896869246,\n",
       " '7': 0.03130755064456722,\n",
       " 'Я': 0.027624309392265192,\n",
       " 'Б': 0.027624309392265192,\n",
       " 'И': 0.027624309392265192,\n",
       " 'Щ': 0.02578268876611418,\n",
       " '>': 0.02394106813996317,\n",
       " 'r': 0.020257826887661142,\n",
       " 'w': 0.016574585635359115,\n",
       " 'Ф': 0.016574585635359115,\n",
       " 'К': 0.016574585635359115,\n",
       " 'Ъ': 0.014732965009208104,\n",
       " 'Ь': 0.01289134438305709,\n",
       " 'Л': 0.011049723756906077,\n",
       " 'М': 0.011049723756906077,\n",
       " 'У': 0.009208103130755065,\n",
       " 'О': 0.007366482504604052,\n",
       " '4': 0.007366482504604052,\n",
       " 'П': 0.0055248618784530384,\n",
       " '5': 0.0055248618784530384,\n",
       " 'А': 0.003683241252302026,\n",
       " '8': 0.001841620626151013}"
      ]
     },
     "execution_count": 143,
     "metadata": {},
     "output_type": "execute_result"
    }
   ],
   "source": [
    "text2 = 'КwЧ5Д>ЫХЧ1ЪЕt Й2>ХИЬЧЙ ФХ 1 ХБЧБХЫПЫХЪЕЩЕtФЙХБЕ2rtЫИИ ХrЕЯЩЕ1ФУЙХДЫХЙЕ17БЕХ8ЛЛЫБЙ ЩДЕХМtЧД Й7ХБЕДЛ wЫД4 Ч17Д>ЫХwЧДД>ЫХДЕХ ХДЧrt 2ЫtХЯДЧ5 ЙЫ17ДЕХК2ЫД7О Й7ХtЧЯ2ЫtХrtЕЪtЧ22>ХБЕЙЕtКУХЯЧХЕw ДХrt Ы2Х2ЕЬДЕХЯЧЪtКЯ Й7ХЩХrЧ2ФЙ7Х Х ИrЕ1Д Й7ХИКПЫИЙЩКЫЙХДЫХ2ЫД7ОЫХwУЬ Д>ХtЧЯ1 5Д>МХКrЧБЕЩП БЕЩХ ИrЕ1Д 2>МХЛЧА1ЕЩХДЫБЕЙЕt>ЫХ ЯХД МХИЕwЫtЬЧЙХtЫЧ1 ЯЧ4 ХЧ1ЪЕt Й2ЕЩХО ЛtЕЩЧД ФХИХ4Ы17УХКИ1ЕЬД Й7ХЬ ЯД7ХrЕЙЫД4 Ч17Д>2ХМЧБЫtЧ2ХДЕХД ХЩХЕwДЕАХ ЯХД МХЧ1ЪЕt Й2ХО ЛtЕЩЧД ФХД БЧБХДЫХИЩФЯЧДХИХЧ1ЪЕt Й2Е2ХИЬЧЙ ФХЕД ХtЫЧ1 ЯЕЩЧД>ХБЧБХЕЙwЫ17Д>ЫХЧ1ЪЕt Й2>Х Х ИrЕ17ЯКУЙИФХtЧЯwЫ17ДЕ'\n",
    "dictin = createDic(text2)\n",
    "# dictin = dict(sorted(dictin.items(), key=lambda item: item[1]))\n",
    "dictin\n",
    "\n"
   ]
  },
  {
   "cell_type": "code",
   "execution_count": 144,
   "metadata": {},
   "outputs": [
    {
     "name": "stdout",
     "output_type": "stream",
     "text": [
      "{'Х': 0.13627992633517497, ' ': 0.08839779005524862, 'Е': 0.08103130755064457, 'Д': 0.07550644567219153, 'Ч': 0.06629834254143646, 'Ы': 0.0570902394106814, 'Й': 0.04788213627992634, 't': 0.04788213627992634, '1': 0.040515653775322284, '2': 0.034990791896869246, '7': 0.03130755064456722, 'Я': 0.027624309392265192, 'Б': 0.027624309392265192, 'И': 0.027624309392265192, 'Щ': 0.02578268876611418, '>': 0.02394106813996317, 'r': 0.020257826887661142, 'w': 0.016574585635359115, 'Ф': 0.016574585635359115, 'К': 0.016574585635359115, 'Ъ': 0.014732965009208104, 'Ь': 0.01289134438305709, 'Л': 0.011049723756906077, 'М': 0.011049723756906077, 'У': 0.009208103130755065, 'О': 0.007366482504604052, '4': 0.007366482504604052, 'П': 0.0055248618784530384, '5': 0.0055248618784530384, 'А': 0.003683241252302026, '8': 0.001841620626151013}\n",
      "31\n"
     ]
    }
   ],
   "source": [
    "print(dictin)\n",
    "print(len(dictin))"
   ]
  },
  {
   "cell_type": "code",
   "execution_count": 148,
   "metadata": {},
   "outputs": [
    {
     "name": "stdout",
     "output_type": "stream",
     "text": [
      "Кwе5н>о ерЪисат2> ИЬетаФ ара БеБ оПо ЪиЩисФт Би2rсоИИа rиЯЩирФУт но тир7Би 8ЛЛоБтаЩни Мсенат7 БинЛаwон4аер7н>о wенн>о ни а неrса2ос Яне5атор7ни К2он7Оат7 сеЯ2ос rсиЪсе22> БитисКУ Яе иwан rсао2 2иЬни ЯеЪсКЯат7 Щ rе2Фт7 а аИrирнат7 ИКПоИтЩКот но 2он7Оо wУЬан> сеЯра5н>М КrеБиЩПаБиЩ аИrирна2>М ЛеАриЩ ноБитис>о аЯ наМ ИиwосЬет соераЯе4а ерЪисат2иЩ ОаЛсиЩенаФ И 4ор7У КИриЬнат7 ЬаЯн7 rитон4аер7н>2 МеБосе2 ни на Щ иwниА аЯ наМ ерЪисат2 ОаЛсиЩенаФ наБеБ но ИЩФЯен И ерЪисат2и2 ИЬетаФ ина соераЯиЩен> БеБ итwор7н>о ерЪисат2> а аИrир7ЯКУтИФ сеЯwор7ни\n"
     ]
    }
   ],
   "source": [
    "tmp = text2.replace(' ', 'а')\n",
    "tmp = tmp.replace('Х', ' ')\n",
    "tmp = tmp.replace('Е','и')\n",
    "tmp = tmp.replace('Д','н')\n",
    "tmp = tmp.replace('Ч','е')\n",
    "tmp = tmp.replace('Ы','о')\n",
    "tmp = tmp.replace('Й','т')\n",
    "tmp = tmp.replace('t', 'с')\n",
    "tmp = tmp.replace('1', 'р')\n",
    "\n",
    "print(tmp)\n",
    "# dictTmp = createDic(tmp)\n",
    "# if 'о' in dictTmp:\n",
    "#     print(\"done\")\n",
    "# print(dictTmp)\n"
   ]
  },
  {
   "cell_type": "code",
   "execution_count": 120,
   "metadata": {},
   "outputs": [
    {
     "name": "stdout",
     "output_type": "stream",
     "text": [
      "wа5е>н а1Ъиtот2> ИЬатоФ о1о БаБ нПн Ъ\u0002иЩиtФт Би2rtнИИо rиЯЩи1ФУт ен ти17Би 8ЛЛнБтоЩеи Мtаеот7 БиеЛоwне4оа17е>н wаее>н еи о еаrtо2нt Яеа5отн17еи К2не7Оот7 tаЯ2нt rtиЪtа22> БитиtКУ Яа иwое rtон2 2иЬеи ЯаЪtКЯот7 Щ rа2Фт7 о оИrи1еот7 ИКПнИтЩКнт ен 2не7Он wУЬое> tаЯ1о5е>М КrаБиЩПоБиЩ оИrи1ео2>М ЛаА1иЩ енБитиt>н оЯ еоМ ИиwнtЬат tна1оЯа4о а1Ъиtот2иЩ ОоЛtиЩаеоФ И 4н17У КИ1иЬеот7 ЬоЯе7 rитне4оа17е>2 МаБнtа2 еи ео Щ иwеиА оЯ еоМ а1Ъиtот2 ОоЛtиЩаеоФ еоБаБ ен ИЩФЯае И а1Ъиtот2и2 ИЬатоФ иео tна1оЯиЩае> БаБ итwн17е>н а1Ъиtот2> о оИrи17ЯКУтИФ tаЯwн17еи\n"
     ]
    }
   ],
   "source": [
    "# print(text2)\n",
    "# print(\"\\n\")\n",
    "print(tmp)"
   ]
  }
 ],
 "metadata": {
  "kernelspec": {
   "display_name": "Python 3",
   "language": "python",
   "name": "python3"
  },
  "language_info": {
   "codemirror_mode": {
    "name": "ipython",
    "version": 3
   },
   "file_extension": ".py",
   "mimetype": "text/x-python",
   "name": "python",
   "nbconvert_exporter": "python",
   "pygments_lexer": "ipython3",
   "version": "3.10.7"
  },
  "orig_nbformat": 4,
  "vscode": {
   "interpreter": {
    "hash": "11ded268b8297055aaf140556fba882ecdb5165a41b875bc3d54b865c929347a"
   }
  }
 },
 "nbformat": 4,
 "nbformat_minor": 2
}
