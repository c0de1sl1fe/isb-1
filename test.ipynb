{
 "cells": [
  {
   "cell_type": "code",
   "execution_count": 2,
   "metadata": {},
   "outputs": [
    {
     "data": {
      "text/plain": [
       "0.75"
      ]
     },
     "execution_count": 2,
     "metadata": {},
     "output_type": "execute_result"
    }
   ],
   "source": [
    "tmp = \"тест\"\n",
    "test = set(list(tmp))\n",
    "a = 3/4\n",
    "test\n",
    "a"
   ]
  },
  {
   "cell_type": "code",
   "execution_count": 11,
   "metadata": {},
   "outputs": [
    {
     "name": "stdout",
     "output_type": "stream",
     "text": [
      "{'t': 0.5, 's': 0.25, 'e': 0.25}\n"
     ]
    }
   ],
   "source": [
    "def createDic(str: str):\n",
    "    tmp = set(str)\n",
    "    # tmp = set(list(str))\n",
    "    length = len(str)\n",
    "    # length = len(tmp)\n",
    "    res = {}\n",
    "    for i in tmp:\n",
    "        count = 0\n",
    "        for j in str:\n",
    "            if (i == j):\n",
    "                count += 1\n",
    "        res[i] = count/length\n",
    "    res = dict(sorted(res.items(), key=lambda item: item[1]))\n",
    "    res = dict(reversed(list(res.items())))\n",
    "    return res\n",
    "\n",
    "\n",
    "def makeDic():\n",
    "    tmpLetter = '0'\n",
    "    tmpValue = 0\n",
    "    res = {}\n",
    "    while (True):\n",
    "        tmpLetter = (input('Char: '))\n",
    "        tmpLetter = tmpLetter.upper()\n",
    "        tmpValue = float(input('Value: '))\n",
    "        if (tmpValue == -1):\n",
    "            break\n",
    "        res[tmpLetter] = tmpValue\n",
    "    # res = dict(sorted(res.items(), key=lambda item: item[1]))\n",
    "    return res\n",
    "\n",
    "\n",
    "str = 'test'\n",
    "tmp = createDic(str)\n",
    "print(tmp)\n"
   ]
  },
  {
   "cell_type": "code",
   "execution_count": 20,
   "metadata": {},
   "outputs": [
    {
     "data": {
      "text/plain": [
       "{'Х': 0.13627992633517497,\n",
       " ' ': 0.08839779005524862,\n",
       " 'Е': 0.08103130755064457,\n",
       " 'Д': 0.07550644567219153,\n",
       " 'Ч': 0.06629834254143646,\n",
       " 'Ы': 0.0570902394106814,\n",
       " 't': 0.04788213627992634,\n",
       " 'Й': 0.04788213627992634,\n",
       " '1': 0.040515653775322284,\n",
       " '2': 0.034990791896869246,\n",
       " '7': 0.03130755064456722,\n",
       " 'Я': 0.027624309392265192,\n",
       " 'И': 0.027624309392265192,\n",
       " 'Б': 0.027624309392265192,\n",
       " 'Щ': 0.02578268876611418,\n",
       " '>': 0.02394106813996317,\n",
       " 'r': 0.020257826887661142,\n",
       " 'К': 0.016574585635359115,\n",
       " 'w': 0.016574585635359115,\n",
       " 'Ф': 0.016574585635359115,\n",
       " 'Ъ': 0.014732965009208104,\n",
       " 'Ь': 0.01289134438305709,\n",
       " 'Л': 0.011049723756906077,\n",
       " 'М': 0.011049723756906077,\n",
       " 'У': 0.009208103130755065,\n",
       " '4': 0.007366482504604052,\n",
       " 'О': 0.007366482504604052,\n",
       " 'П': 0.0055248618784530384,\n",
       " '5': 0.0055248618784530384,\n",
       " 'А': 0.003683241252302026,\n",
       " '8': 0.001841620626151013}"
      ]
     },
     "execution_count": 20,
     "metadata": {},
     "output_type": "execute_result"
    }
   ],
   "source": [
    "# text2 = 'КwЧ5Д>ЫХЧ1ЪЕt Й2>ХИЬЧЙ ФХ 1 ХБЧБХЫПЫХЪЕЩЕtФЙХБЕ2rtЫИИ ХrЕЯЩЕ1ФУЙХДЫХЙЕ17БЕХ8ЛЛЫБЙ ЩДЕХМtЧД Й7ХБЕДЛ wЫД4 Ч17Д>ЫХwЧДД>ЫХДЕХ ХДЧrt 2ЫtХЯДЧ5 ЙЫ17ДЕХК2ЫД7О Й7ХtЧЯ2ЫtХrtЕЪtЧ22>ХБЕЙЕtКУХЯЧХЕw ДХrt Ы2Х2ЕЬДЕХЯЧЪtКЯ Й7ХЩХrЧ2ФЙ7Х Х ИrЕ1Д Й7ХИКПЫИЙЩКЫЙХДЫХ2ЫД7ОЫХwУЬ Д>ХtЧЯ1 5Д>МХКrЧБЕЩП БЕЩХ ИrЕ1Д 2>МХЛЧА1ЕЩХДЫБЕЙЕt>ЫХ ЯХД МХИЕwЫtЬЧЙХtЫЧ1 ЯЧ4 ХЧ1ЪЕt Й2ЕЩХО ЛtЕЩЧД ФХИХ4Ы17УХКИ1ЕЬД Й7ХЬ ЯД7ХrЕЙЫД4 Ч17Д>2ХМЧБЫtЧ2ХДЕХД ХЩХЕwДЕАХ ЯХД МХЧ1ЪЕt Й2ХО ЛtЕЩЧД ФХД БЧБХДЫХИЩФЯЧДХИХЧ1ЪЕt Й2Е2ХИЬЧЙ ФХЕД ХtЫЧ1 ЯЕЩЧД>ХБЧБХЕЙwЫ17Д>ЫХЧ1ЪЕt Й2>Х Х ИrЕ17ЯКУЙИФХtЧЯwЫ17ДЕ'\n",
    "text2 = \"КwЧ5Д>ЫХЧ1ЪЕt Й2>ХИЬЧЙ ФХ 1 ХБЧБХЫПЫХЪЕЩЕtФЙХБЕ2rtЫИИ ХrЕЯЩЕ1ФУЙХДЫХЙЕ17БЕХ8ЛЛЫБЙ ЩДЕХМtЧД Й7ХБЕДЛ wЫД4 Ч17Д>ЫХwЧДД>ЫХДЕХ ХДЧrt 2ЫtХЯДЧ5 ЙЫ17ДЕХК2ЫД7О Й7ХtЧЯ2ЫtХrtЕЪtЧ22>ХБЕЙЕtКУХЯЧХЕw ДХrt Ы2Х2ЕЬДЕХЯЧЪtКЯ Й7ХЩХrЧ2ФЙ7Х Х ИrЕ1Д Й7ХИКПЫИЙЩКЫЙХДЫХ2ЫД7ОЫХwУЬ Д>ХtЧЯ1 5Д>МХКrЧБЕЩП БЕЩХ ИrЕ1Д 2>МХЛЧА1ЕЩХДЫБЕЙЕt>ЫХ ЯХД МХИЕwЫtЬЧЙХtЫЧ1 ЯЧ4 ХЧ1ЪЕt Й2ЕЩХО ЛtЕЩЧД ФХИХ4Ы17УХКИ1ЕЬД Й7ХЬ ЯД7ХrЕЙЫД4 Ч17Д>2ХМЧБЫtЧ2ХДЕХД ХЩХЕwДЕАХ ЯХД МХЧ1ЪЕt Й2ХО ЛtЕЩЧД ФХД БЧБХДЫХИЩФЯЧДХИХЧ1ЪЕt Й2Е2ХИЬЧЙ ФХЕД ХtЫЧ1 ЯЕЩЧД>ХБЧБХЕЙwЫ17Д>ЫХЧ1ЪЕt Й2>Х Х ИrЕ17ЯКУЙИФХtЧЯwЫ17ДЕ\"\n",
    "dictin = createDic(text2)\n",
    "# dictin = dict(sorted(dictin.items(), key=lambda item: item[1]))\n",
    "dictin\n",
    "\n"
   ]
  },
  {
   "cell_type": "code",
   "execution_count": 17,
   "metadata": {},
   "outputs": [
    {
     "name": "stdout",
     "output_type": "stream",
     "text": [
      "{'Х': 0.13602941176470587, ' ': 0.08823529411764706, 'Е': 0.08088235294117647, 'Д': 0.07536764705882353, 'Ч': 0.0661764705882353, 'Ы': 0.05698529411764706, 't': 0.04779411764705882, 'Й': 0.04779411764705882, '1': 0.04044117647058824, '2': 0.034926470588235295, '7': 0.03125, 'Я': 0.027573529411764705, 'И': 0.027573529411764705, 'Б': 0.027573529411764705, 'Щ': 0.025735294117647058, '>': 0.02389705882352941, 'r': 0.02022058823529412, 'К': 0.016544117647058824, 'w': 0.016544117647058824, 'Ф': 0.016544117647058824, 'Ъ': 0.014705882352941176, 'Ь': 0.012867647058823529, 'Л': 0.011029411764705883, 'М': 0.011029411764705883, 'У': 0.009191176470588236, '4': 0.007352941176470588, 'О': 0.007352941176470588, 'П': 0.0055147058823529415, '5': 0.0055147058823529415, 'А': 0.003676470588235294, '-': 0.001838235294117647, '8': 0.001838235294117647}\n",
      "32\n"
     ]
    }
   ],
   "source": [
    "print(dictin)\n",
    "print(len(dictin))\n",
    "# dict = {' ': 0.128675, 'О': 0.096456, 'И': 0.075312, 'Е': 0.072292, 'А': 0.064841, 'Н': 0.061820, 'Т': 0.061619, 'С': 0.051953, 'Р': 0.040677, 'В': 0.039267, 'М': 0.029803, 'Л': 0.029400, 'Д': 0.026983, 'Я': 0.026379, 'К': 0.025977, 'П': 0.024768,\n",
    "        # 'З': 0.015908, 'Ы': 0.015707, 'Ь': 0.015103, 'У': 0.013290, 'Ч': 0.011679, 'Ж': 0.010673, 'Г': 0.009867, 'Х': 0.008659, 'Ф': 0.007249, 'Й': 0.006847, 'Ю': 0.006847, 'Б': 0.006645, 'Ц': 0.005034, 'Ш': 0.004229, 'Щ': 0.003625, 'Э': 0.002416, 'Ъ': 0.000000}\n"
   ]
  },
  {
   "cell_type": "code",
   "execution_count": 63,
   "metadata": {},
   "outputs": [
    {
     "name": "stdout",
     "output_type": "stream",
     "text": [
      "удачные алгоритмы сжатия или как еще говорят компресси позволяют не только эффективно хранить конфиденциальные данные но и например значительно уменьшить размер программы которую за один прием можно загрузить в память и исполнить существует не меньше дюжины различных упаковщиков исполнимых файлов некоторые из них содержат реализаци алгоритмов шифрования с целью усложнить жизнь потенциальным хакерам но ни в одной из них алгоритм шифрования никак не связан с алгоритмом сжатия они реализованы как отдельные алгоритмы и используются раздельно\n"
     ]
    }
   ],
   "source": [
    "tmp = text2.replace(' ', '_')\n",
    "tmp = tmp.replace('Х', ' ')\n",
    "\n",
    "\n",
    "# tmp = tmp.replace('Е','е')\n",
    "tmp = tmp.replace('Е','о')\n",
    "\n",
    "tmp = tmp.replace('Д','н')\n",
    "\n",
    "tmp = tmp.replace('_','и')\n",
    "tmp = tmp.replace('1','л')\n",
    "\n",
    "tmp = tmp.replace('Б','к')\n",
    "tmp = tmp.replace('Ч','а')\n",
    "\n",
    "tmp = tmp.replace('Ы','е') # т\n",
    "tmp = tmp.replace('П','щ') # у\n",
    "\n",
    "\n",
    "tmp = tmp.replace('И', 'с')\n",
    "# tmp = tmp.replace('Ч','е')\n",
    "# tmp = tmp.replace('Ы','о')\n",
    "# tmp = tmp.replace('Й','т')\n",
    "# tmp = tmp.replace('t', 'с')\n",
    "# tmp = tmp.replace('1', 'р')\n",
    "# tmp = tmp.replace('2', 'в')\n",
    "# tmp = tmp.replace('7', 'м')\n",
    "# tmp = tmp.replace('И', 'д')\n",
    "# tmp = tmp.replace('Я', 'я')\n",
    "# tmp = tmp.replace('Б', 'к')\n",
    "# tmp = tmp.replace('Щ', 'п')\n",
    "# tmp = tmp.replace('>', 'з')\n",
    "# tmp = tmp.replace('r', 'ы')\n",
    "# tmp = tmp.replace('К', 'ь')\n",
    "tmp = tmp.replace('Щ', 'в')\n",
    "tmp = tmp.replace('Ф', 'я')\n",
    "tmp = tmp.replace('Я', 'з')\n",
    "# сЩФЯан связан -> щ В ф Я я З\n",
    "# еwнеА одной -> \n",
    "tmp = tmp.replace('w', 'д')\n",
    "tmp = tmp.replace('А', 'й')\n",
    "tmp = tmp.replace('М', 'х')\n",
    "tmp = tmp.replace('r', 'п')\n",
    "\n",
    "tmp = tmp.replace('Л', 'ф')\n",
    "tmp = tmp.replace('О', 'ш')\n",
    "tmp = tmp.replace('t', 'р')\n",
    "\n",
    "tmp = tmp.replace('Ъ', 'г')\n",
    "tmp = tmp.replace('Й', 'т') #м\n",
    "tmp = tmp.replace('7', 'ь')\n",
    "\n",
    "tmp = tmp.replace('Ь', 'ж')\n",
    "# tmp = tmp.replace('К', 'у') ???\n",
    "# м -> т \n",
    "# т -> е\n",
    "# 2 -> м\n",
    "tmp = tmp.replace('Ь', 'ж')\n",
    "\n",
    "tmp = tmp.replace('2', 'м')\n",
    "tmp = tmp.replace('У', 'ю')\n",
    "tmp = tmp.replace('8', 'э')\n",
    "tmp = tmp.replace('>', 'ы')\n",
    "tmp = tmp.replace('5', 'ч')\n",
    "tmp = tmp.replace('К', 'у')\n",
    "tmp = tmp.replace('4', 'ц')\n",
    "\n",
    "print(tmp)"
   ]
  },
  {
   "cell_type": "code",
   "execution_count": 85,
   "metadata": {},
   "outputs": [
    {
     "data": {
      "text/plain": [
       "'o'"
      ]
     },
     "execution_count": 85,
     "metadata": {},
     "output_type": "execute_result"
    }
   ],
   "source": [
    "a = 'O'.lower()\n",
    "\n",
    "a\n"
   ]
  },
  {
   "cell_type": "code",
   "execution_count": null,
   "metadata": {},
   "outputs": [],
   "source": [
    "# tmp = tmp.replace('Е','и')\n",
    "# tmp = tmp.replace('Д','е')\n",
    "# tmp = tmp.replace('Ч', 'а')\n",
    "# tmp = tmp.replace('Ы','я')\n",
    "# tmp = tmp.replace('Й','т')\n",
    "# tmp = tmp.replace('t', 'с')\n",
    "# tmp = tmp.replace('1', 'р')\n",
    "# tmp = tmp.replace('2', 'в')\n",
    "# tmp = tmp.replace('7', 'м')\n",
    "# tmp = tmp.replace('Я','л')\n",
    "# tmp = tmp.replace('Б', 'д')\n",
    "# tmp = tmp.replace('И', 'н')\n",
    "# tmp = tmp.replace('Ь', 'п')\n",
    "# tmp = tmp.replace('>', 'з')\n",
    "# tmp = tmp.replace('r', 'ы')\n",
    "# tmp = tmp.replace('К', 'ь')\n",
    "\n",
    "# tmp = tmp.replace('Е','и')\n",
    "# tmp = tmp.replace('Д','н')\n",
    "# tmp = tmp.replace('Ч','е')\n",
    "# tmp = tmp.replace('Ы','о')\n",
    "# tmp = tmp.replace('Й','т')\n",
    "# tmp = tmp.replace('t', 'с')\n",
    "# tmp = tmp.replace('1', 'р')\n",
    "# tmp = tmp.replace('2', 'в')\n",
    "# tmp = tmp.replace('7', 'м')\n",
    "# tmp = tmp.replace('И', 'д')\n",
    "# tmp = tmp.replace('Я', 'я')\n",
    "# tmp = tmp.replace('Б', 'к')\n",
    "# tmp = tmp.replace('Щ', 'п')\n",
    "# tmp = tmp.replace('>', 'з')\n",
    "# tmp = tmp.replace('r', 'ы')\n",
    "# tmp = tmp.replace('К', 'ь')\n",
    "# dictTmp = createDic(tmp)\n",
    "# if 'о' in dictTmp:\n",
    "#     print(\"done\")\n",
    "# print(dictTmp)\n",
    "# tmp = tmp.replace('Е','и')\n",
    "# tmp = tmp.replace('Д','е')\n",
    "# tmp = tmp.replace('Ч', 'а')\n",
    "# tmp = tmp.replace('Ы','я')\n",
    "# tmp = tmp.replace('Й','т')\n",
    "# tmp = tmp.replace('t', 'с')\n",
    "# tmp = tmp.replace('1', 'р')\n",
    "# tmp = tmp.replace('2', 'в')\n",
    "# tmp = tmp.replace('7', 'м')\n",
    "# tmp = tmp.replace('Я','л')\n",
    "# tmp = tmp.replace('Б', 'д')\n",
    "# tmp = tmp.replace('И', 'н')\n",
    "# tmp = tmp.replace('Ь', 'п')\n",
    "# tmp = tmp.replace('>', 'з')\n",
    "# tmp = tmp.replace('r', 'ы')\n",
    "# tmp = tmp.replace('К', 'ь')\n",
    "\n",
    "# tmp = tmp.replace('Е','и')\n",
    "# tmp = tmp.replace('Д','н')\n",
    "# tmp = tmp.replace('Ч','е')\n",
    "# tmp = tmp.replace('Ы','о')\n",
    "# tmp = tmp.replace('Й','т')\n",
    "# tmp = tmp.replace('t', 'с')\n",
    "# tmp = tmp.replace('1', 'р')\n",
    "# tmp = tmp.replace('2', 'в')\n",
    "# tmp = tmp.replace('7', 'м')\n",
    "# tmp = tmp.replace('И', 'д')\n",
    "# tmp = tmp.replace('Я', 'я')\n",
    "# tmp = tmp.replace('Б', 'к')\n",
    "# tmp = tmp.replace('Щ', 'п')\n",
    "# tmp = tmp.replace('>', 'з')\n",
    "# tmp = tmp.replace('r', 'ы')\n",
    "# tmp = tmp.replace('К', 'ь')\n",
    "# dictTmp = createDic(tmp)\n",
    "# if 'о' in dictTmp:\n",
    "#     print(\"done\")\n",
    "# print(dictTmp)\n",
    "\n",
    "# tmp = tmp.replace('Д', ' ')\n",
    "# old = list(dictin)\n",
    "# new = list(dict)\n",
    "# for i in range(2, 30):\n",
    "#     print(old[i], new[i].lower())\n",
    "#     tmp = tmp.replace(old[i], new[i].lower())\n",
    "\n",
    "\n",
    "tmp = text2.replace(' ', 'о')\n",
    "tmp = tmp.replace('Х', ' ')\n",
    "tmp = tmp.replace('Е','и')\n",
    "tmp = tmp.replace('Д','е')\n",
    "tmp = tmp.replace('Ч', 'а')\n",
    "tmp = tmp.replace('Ы','н')\n",
    "tmp = tmp.replace('Й','т')\n",
    "tmp = tmp.replace('t', 'с')\n",
    "tmp = tmp.replace('1', 'р')\n",
    "tmp = tmp.replace('2', 'в')\n",
    "tmp = tmp.replace('7', 'м')\n",
    "tmp = tmp.replace('Я', 'д')\n",
    "tmp = tmp.replace('Б', 'я')\n",
    "tmp = tmp.replace('И', 'ж')\n",
    "tmp = tmp.replace('Ь', 'п')\n",
    "tmp = tmp.replace('>', 'з')\n",
    "tmp = tmp.replace('r', 'ы')\n",
    "tmp = tmp.replace('К', 'ь')\n",
    "\n",
    "tmp = tmp.replace('Ч', 'а')\n",
    "tmp = tmp.replace('Ы','я')\n",
    "tmp = tmp.replace('Й','т')\n",
    "tmp = tmp.replace('t', 'с')\n",
    "tmp = tmp.replace('1', 'р')\n",
    "tmp = tmp.replace('2', 'в')\n",
    "tmp = tmp.replace('7', 'м')\n",
    "tmp = tmp.replace('Я','л')\n",
    "tmp = tmp.replace('Б', 'д')\n",
    "tmp = tmp.replace('И', 'н')\n",
    "tmp = tmp.replace('Ь', 'п')\n",
    "tmp = tmp.replace('>', 'з')\n",
    "tmp = tmp.replace('r', 'ы')\n",
    "tmp = tmp.replace('К', 'ь')"
   ]
  },
  {
   "cell_type": "code",
   "execution_count": 4,
   "metadata": {},
   "outputs": [
    {
     "data": {
      "text/plain": [
       "'Б__ОД КЪМ4И__ЕtrМt__ЛМ41tД__r 2 Хt__МД__ЬБКЬЫРПЬ-__ПР4КЪ__5ОtЛtРtБМЩЛt__Й Й__М 5ОtЛДО__r 2 Х __r ЦtТО4Б МtЬ__42М414__Т ИК __4ХДМЪ__Х ПР4__РОДА>ДРПЬ__МД__Р4КЪЙ4__t__МДПР4КЪЙ4__r ЦtТО4Б РЪ__2 ММЩД__М4__ДЧД__t__П2ДК РЪ__tУ__УО МДМtД__t__5ДОД2 Х>__Й Й__Л4ЕМ4__А4КДД__wТТДЙРtБМДД__Б__5О41О ЛЛМЩУ__5ОtК4ЕДМtЬУ__Б4БПЫ__tП54КЪr>ЫРПЬ__ К14ОtРЛЩ__ПЕ РtЬ__ __5ДОtТДОtИМЩД__>ПРО4ИПРБ __М __ 55 О РМ4Л__>О4БМД__5422ДОЕtБ ЫР__О А4Р>__ЛДР424Б__4АДП5ДХДМtЬ__ФДК4ПРМ4ПРt__УО МtЛЩУ__t__5ДОД2 Б ДЛЩУ__2 ММЩУ?'"
      ]
     },
     "execution_count": 4,
     "metadata": {},
     "output_type": "execute_result"
    }
   ],
   "source": [
    "text2 = \"БЯОД КЪМ4ИЯЕtrМtЯЛМ41tДЯr 2 ХtЯМДЯЬБКЬЫРПЬ-ЯПР4КЪЯ5ОtЛtРtБМЩЛtЯЙ ЙЯМ 5ОtЛДОЯr 2 Х Яr ЦtТО4Б МtЬЯ42М414ЯТ ИК Я4ХДМЪЯХ ПР4ЯРОДА>ДРПЬЯМДЯР4КЪЙ4ЯtЯМДПР4КЪЙ4Яr ЦtТО4Б РЪЯ2 ММЩДЯМ4ЯДЧДЯtЯП2ДК РЪЯtУЯУО МДМtДЯtЯ5ДОД2 Х>ЯЙ ЙЯЛ4ЕМ4ЯА4КДДЯwТТДЙРtБМДДЯБЯ5О41О ЛЛМЩУЯ5ОtК4ЕДМtЬУЯБ4БПЫЯtП54КЪr>ЫРПЬЯ К14ОtРЛЩЯПЕ РtЬЯ Я5ДОtТДОtИМЩДЯ>ПРО4ИПРБ ЯМ Я 55 О РМ4ЛЯ>О4БМДЯ5422ДОЕtБ ЫРЯО А4Р>ЯЛДР424БЯ4АДП5ДХДМtЬЯФДК4ПРМ4ПРtЯУО МtЛЩУЯtЯ5ДОД2 Б ДЛЩУЯ2 ММЩУ?\"\n",
    "dictin = createDic(text2)\n",
    "text2= text2.replace('Я', '__')\n",
    "text2"
   ]
  }
 ],
 "metadata": {
  "kernelspec": {
   "display_name": "Python 3",
   "language": "python",
   "name": "python3"
  },
  "language_info": {
   "codemirror_mode": {
    "name": "ipython",
    "version": 3
   },
   "file_extension": ".py",
   "mimetype": "text/x-python",
   "name": "python",
   "nbconvert_exporter": "python",
   "pygments_lexer": "ipython3",
   "version": "3.10.7"
  },
  "orig_nbformat": 4,
  "vscode": {
   "interpreter": {
    "hash": "35a25c9872cbda683d5908eca59acc1b206505f792393dc9b104ecdd0b60136b"
   }
  }
 },
 "nbformat": 4,
 "nbformat_minor": 2
}
