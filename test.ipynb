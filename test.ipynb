{
 "cells": [
  {
   "cell_type": "code",
   "execution_count": 2,
   "metadata": {},
   "outputs": [
    {
     "data": {
      "text/plain": [
       "0.75"
      ]
     },
     "execution_count": 2,
     "metadata": {},
     "output_type": "execute_result"
    }
   ],
   "source": [
    "tmp = \"тест\"\n",
    "test = set(list(tmp))\n",
    "a = 3/4\n",
    "test\n",
    "a"
   ]
  },
  {
   "cell_type": "code",
   "execution_count": 33,
   "metadata": {},
   "outputs": [
    {
     "name": "stdout",
     "output_type": "stream",
     "text": [
      "{'t': 0.5, 'e': 0.25, 's': 0.25}\n"
     ]
    }
   ],
   "source": [
    "def createDic(str: str):\n",
    "    tmp = set(list(str))\n",
    "    length = len(str)\n",
    "    res = {}\n",
    "    for i in tmp:\n",
    "        count = 0\n",
    "        for j in str:\n",
    "            if(i == j):\n",
    "                count+=1\n",
    "        res[i] = count/length\n",
    "    res = dict(sorted(res.items(), key=lambda item: item[1]))\n",
    "    res =dict(reversed(list(res.items())))\n",
    "    return res\n",
    "def makeDic():\n",
    "    tmpLetter = '0'\n",
    "    tmpValue = 0\n",
    "    res = {}\n",
    "    while (True):\n",
    "        tmpLetter = (input('Char: '))\n",
    "        tmpLetter = tmpLetter.upper()\n",
    "        tmpValue = float(input('Value: '))\n",
    "        if (tmpValue == -1):\n",
    "            break\n",
    "        res[tmpLetter] = tmpValue\n",
    "    res = dict(sorted(res.items(), key=lambda item: item[1]))\n",
    "    return res\n",
    "str = 'test'\n",
    "tmp = createDic(str)\n",
    "print(tmp)"
   ]
  },
  {
   "cell_type": "code",
   "execution_count": null,
   "metadata": {},
   "outputs": [],
   "source": []
  },
  {
   "cell_type": "code",
   "execution_count": 6,
   "metadata": {},
   "outputs": [
    {
     "data": {
      "text/plain": [
       "'yesy'"
      ]
     },
     "execution_count": 6,
     "metadata": {},
     "output_type": "execute_result"
    }
   ],
   "source": [
    "str = str.replace('t', 'y')\n",
    "str"
   ]
  },
  {
   "cell_type": "code",
   "execution_count": 34,
   "metadata": {},
   "outputs": [
    {
     "data": {
      "text/plain": [
       "{'Х': 0.13627992633517497,\n",
       " ' ': 0.08839779005524862,\n",
       " 'Е': 0.08103130755064457,\n",
       " 'Д': 0.07550644567219153,\n",
       " 'Ч': 0.06629834254143646,\n",
       " 'Ы': 0.0570902394106814,\n",
       " 'Й': 0.04788213627992634,\n",
       " 't': 0.04788213627992634,\n",
       " '1': 0.040515653775322284,\n",
       " '2': 0.034990791896869246,\n",
       " '7': 0.03130755064456722,\n",
       " 'Я': 0.027624309392265192,\n",
       " 'Б': 0.027624309392265192,\n",
       " 'И': 0.027624309392265192,\n",
       " 'Щ': 0.02578268876611418,\n",
       " '>': 0.02394106813996317,\n",
       " 'r': 0.020257826887661142,\n",
       " 'w': 0.016574585635359115,\n",
       " 'Ф': 0.016574585635359115,\n",
       " 'Ъ': 0.014732965009208104,\n",
       " 'К': 0.014732965009208104,\n",
       " 'Ь': 0.01289134438305709,\n",
       " 'Л': 0.011049723756906077,\n",
       " 'М': 0.011049723756906077,\n",
       " 'У': 0.009208103130755065,\n",
       " 'О': 0.007366482504604052,\n",
       " '4': 0.007366482504604052,\n",
       " 'П': 0.0055248618784530384,\n",
       " '5': 0.0055248618784530384,\n",
       " 'А': 0.003683241252302026,\n",
       " '\\x02': 0.001841620626151013,\n",
       " '8': 0.001841620626151013}"
      ]
     },
     "execution_count": 34,
     "metadata": {},
     "output_type": "execute_result"
    }
   ],
   "source": [
    "text2 = '''wЧ5Д>ЫХЧ1ЪЕt Й2>ХИЬЧЙ ФХ 1 ХБЧБХЫПЫХЪ\u0002ЕЩЕtФЙХБЕ2rtЫИИ ХrЕЯЩЕ1ФУЙХДЫХЙЕ17БЕХ8ЛЛЫБЙ ЩДЕХМtЧД Й7ХБЕДЛ wЫД4 Ч17Д>ЫХwЧДД>ЫХДЕХ ХДЧrt 2ЫtХЯДЧ5 ЙЫ17ДЕХК2ЫД7О Й7ХtЧЯ2ЫtХrtЕЪtЧ22>ХБЕЙЕtКУХЯЧХЕw ДХrt Ы2Х2ЕЬДЕХЯЧЪtКЯ Й7ХЩХrЧ2ФЙ7Х Х ИrЕ1Д Й7ХИКПЫИЙЩКЫЙХДЫХ2ЫД7ОЫХwУЬ Д>ХtЧЯ1 5Д>МХКrЧБЕЩП БЕЩХ ИrЕ1Д 2>МХЛЧА1ЕЩХДЫБЕЙЕt>ЫХ ЯХД МХИЕwЫtЬЧЙХtЫЧ1 ЯЧ4 ХЧ1ЪЕt Й2ЕЩХО ЛtЕЩЧД ФХИХ4Ы17УХКИ1ЕЬД Й7ХЬ ЯД7ХrЕЙЫД4 Ч17Д>2ХМЧБЫtЧ2ХДЕХД ХЩХЕwДЕАХ ЯХД МХЧ1ЪЕt Й2ХО ЛtЕЩЧД ФХД БЧБХДЫХИЩФЯЧДХИХЧ1ЪЕt Й2Е2ХИЬЧЙ ФХЕД ХtЫЧ1 ЯЕЩЧД>ХБЧБХЕЙwЫ17Д>ЫХЧ1ЪЕt Й2>Х Х ИrЕ17ЯКУЙИФХtЧЯwЫ17ДЕ'''\n",
    "dictin = createDic(text2)\n",
    "# dictin = dict(sorted(dictin.items(), key=lambda item: item[1]))\n",
    "dictin\n",
    "\n"
   ]
  },
  {
   "cell_type": "code",
   "execution_count": 32,
   "metadata": {},
   "outputs": [
    {
     "name": "stdout",
     "output_type": "stream",
     "text": [
      "{'Х': 0.13627992633517497, ' ': 0.08839779005524862, 'Е': 0.08103130755064457, 'Д': 0.07550644567219153, 'Ч': 0.06629834254143646, 'Ы': 0.0570902394106814, 'Й': 0.04788213627992634, 't': 0.04788213627992634, '1': 0.040515653775322284, '2': 0.034990791896869246, '7': 0.03130755064456722, 'Я': 0.027624309392265192, 'Б': 0.027624309392265192, 'И': 0.027624309392265192, 'Щ': 0.02578268876611418, '>': 0.02394106813996317, 'r': 0.020257826887661142, 'w': 0.016574585635359115, 'Ф': 0.016574585635359115, 'Ъ': 0.014732965009208104, 'К': 0.014732965009208104, 'Ь': 0.01289134438305709, 'Л': 0.011049723756906077, 'М': 0.011049723756906077, 'У': 0.009208103130755065, 'О': 0.007366482504604052, '4': 0.007366482504604052, 'П': 0.0055248618784530384, '5': 0.0055248618784530384, 'А': 0.003683241252302026, '\\x02': 0.001841620626151013, '8': 0.001841620626151013}\n"
     ]
    }
   ],
   "source": [
    "# from collections import OrderedDict\n",
    "# res = dict(OrderedDict(reversed(list(dictin.items()))))\n",
    "res =dict(reversed(list(dictin.items())))\n",
    "print(res)"
   ]
  },
  {
   "cell_type": "code",
   "execution_count": 31,
   "metadata": {},
   "outputs": [
    {
     "name": "stdout",
     "output_type": "stream",
     "text": [
      "{'8': 0.001841620626151013, '\\x02': 0.001841620626151013, 'А': 0.003683241252302026, '5': 0.0055248618784530384, 'П': 0.0055248618784530384, '4': 0.007366482504604052, 'О': 0.007366482504604052, 'У': 0.009208103130755065, 'М': 0.011049723756906077, 'Л': 0.011049723756906077, 'Ь': 0.01289134438305709, 'К': 0.014732965009208104, 'Ъ': 0.014732965009208104, 'Ф': 0.016574585635359115, 'w': 0.016574585635359115, 'r': 0.020257826887661142, '>': 0.02394106813996317, 'Щ': 0.02578268876611418, 'И': 0.027624309392265192, 'Б': 0.027624309392265192, 'Я': 0.027624309392265192, '7': 0.03130755064456722, '2': 0.034990791896869246, '1': 0.040515653775322284, 't': 0.04788213627992634, 'Й': 0.04788213627992634, 'Ы': 0.0570902394106814, 'Ч': 0.06629834254143646, 'Д': 0.07550644567219153, 'Е': 0.08103130755064457, ' ': 0.08839779005524862, 'Х': 0.13627992633517497}\n"
     ]
    }
   ],
   "source": [
    "print(dictin)"
   ]
  },
  {
   "cell_type": "code",
   "execution_count": 21,
   "metadata": {},
   "outputs": [
    {
     "name": "stdout",
     "output_type": "stream",
     "text": [
      "{'a': 3, 'c': 7, 'b': 9}\n"
     ]
    }
   ],
   "source": [
    "# исходный словарь\n",
    "d = {'b': 9, 'a': 3, 'c': 7}\n",
    "\n",
    "teeest = dict(sorted(d.items(), key=lambda item: item[1]))\n",
    "# inv_map = {v: k for k, v in teeest.items()}\n",
    "print(teeest)\n",
    "# {'a': 3, 'b': 9, 'c': 7}"
   ]
  }
 ],
 "metadata": {
  "kernelspec": {
   "display_name": "Python 3",
   "language": "python",
   "name": "python3"
  },
  "language_info": {
   "codemirror_mode": {
    "name": "ipython",
    "version": 3
   },
   "file_extension": ".py",
   "mimetype": "text/x-python",
   "name": "python",
   "nbconvert_exporter": "python",
   "pygments_lexer": "ipython3",
   "version": "3.10.7"
  },
  "orig_nbformat": 4,
  "vscode": {
   "interpreter": {
    "hash": "11ded268b8297055aaf140556fba882ecdb5165a41b875bc3d54b865c929347a"
   }
  }
 },
 "nbformat": 4,
 "nbformat_minor": 2
}
